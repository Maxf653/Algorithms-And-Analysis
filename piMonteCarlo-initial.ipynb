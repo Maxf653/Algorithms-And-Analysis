{
  "nbformat": 4,
  "nbformat_minor": 0,
  "metadata": {
    "colab": {
      "provenance": [],
      "include_colab_link": true
    },
    "kernelspec": {
      "name": "python3",
      "display_name": "Python 3"
    },
    "language_info": {
      "name": "python"
    }
  },
  "cells": [
    {
      "cell_type": "markdown",
      "metadata": {
        "id": "view-in-github",
        "colab_type": "text"
      },
      "source": [
        "<a href=\"https://colab.research.google.com/github/Maxf653/Algorithms-And-Analysis/blob/main/piMonteCarlo-initial.ipynb\" target=\"_parent\"><img src=\"https://colab.research.google.com/assets/colab-badge.svg\" alt=\"Open In Colab\"/></a>"
      ]
    },
    {
      "cell_type": "code",
      "execution_count": 2,
      "metadata": {
        "id": "1kC5fEv-sfDQ"
      },
      "outputs": [],
      "source": [
        "import numpy as np\n",
        "from numba import njit, prange\n",
        "import datetime\n",
        "import random\n",
        "import tensorflow as tf"
      ]
    },
    {
      "cell_type": "code",
      "source": [
        "#Naive approach\n",
        "\n",
        "start_time = datetime.datetime.now()\n",
        "n=10000000\n",
        "points_in_circle = 0\n",
        "for i in range(0,n):\n",
        "  x = random.random()\n",
        "  y = random.random()\n",
        "  if x*x + y*y <= 1:\n",
        "    points_in_circle += 1\n",
        "\n",
        "\n",
        "end_time = datetime.datetime.now()\n",
        "elapsed_time = (end_time - start_time).total_seconds()\n",
        "print(\"pi: \" + points_in_circle)\n",
        "print(\"time: \" + elapsed_time)\n",
        "\n"
      ],
      "metadata": {
        "id": "m-X86P0FScb6",
        "outputId": "9d7d4c06-a6a6-4e4a-a6f0-9237a39bf789",
        "colab": {
          "base_uri": "https://localhost:8080/",
          "height": 207
        }
      },
      "execution_count": 4,
      "outputs": [
        {
          "output_type": "error",
          "ename": "TypeError",
          "evalue": "can only concatenate str (not \"int\") to str",
          "traceback": [
            "\u001b[0;31m---------------------------------------------------------------------------\u001b[0m",
            "\u001b[0;31mTypeError\u001b[0m                                 Traceback (most recent call last)",
            "\u001b[0;32m/tmp/ipython-input-920339596.py\u001b[0m in \u001b[0;36m<cell line: 0>\u001b[0;34m()\u001b[0m\n\u001b[1;32m     13\u001b[0m \u001b[0mend_time\u001b[0m \u001b[0;34m=\u001b[0m \u001b[0mdatetime\u001b[0m\u001b[0;34m.\u001b[0m\u001b[0mdatetime\u001b[0m\u001b[0;34m.\u001b[0m\u001b[0mnow\u001b[0m\u001b[0;34m(\u001b[0m\u001b[0;34m)\u001b[0m\u001b[0;34m\u001b[0m\u001b[0;34m\u001b[0m\u001b[0m\n\u001b[1;32m     14\u001b[0m \u001b[0melapsed_time\u001b[0m \u001b[0;34m=\u001b[0m \u001b[0;34m(\u001b[0m\u001b[0mend_time\u001b[0m \u001b[0;34m-\u001b[0m \u001b[0mstart_time\u001b[0m\u001b[0;34m)\u001b[0m\u001b[0;34m.\u001b[0m\u001b[0mtotal_seconds\u001b[0m\u001b[0;34m(\u001b[0m\u001b[0;34m)\u001b[0m\u001b[0;34m\u001b[0m\u001b[0;34m\u001b[0m\u001b[0m\n\u001b[0;32m---> 15\u001b[0;31m \u001b[0mprint\u001b[0m\u001b[0;34m(\u001b[0m\u001b[0;34m\"pi: \"\u001b[0m \u001b[0;34m+\u001b[0m \u001b[0mpoints_in_circle\u001b[0m\u001b[0;34m)\u001b[0m\u001b[0;34m\u001b[0m\u001b[0;34m\u001b[0m\u001b[0m\n\u001b[0m\u001b[1;32m     16\u001b[0m \u001b[0mprint\u001b[0m\u001b[0;34m(\u001b[0m\u001b[0;34m\"time: \"\u001b[0m \u001b[0;34m+\u001b[0m \u001b[0melapsed_time\u001b[0m\u001b[0;34m)\u001b[0m\u001b[0;34m\u001b[0m\u001b[0;34m\u001b[0m\u001b[0m\n\u001b[1;32m     17\u001b[0m \u001b[0;34m\u001b[0m\u001b[0m\n",
            "\u001b[0;31mTypeError\u001b[0m: can only concatenate str (not \"int\") to str"
          ]
        }
      ]
    },
    {
      "cell_type": "code",
      "source": [
        "#Just in time compilation, into machine code\n",
        "@njit(parallel=True)\n",
        "def monte_carlo_pi(n):\n",
        "  inside = 0\n",
        "  for i in prange(n):\n",
        "    x = random.random()\n",
        "    y = random.random()\n",
        "    if x**2+y**2<=1.0:\n",
        "      inside +=1\n",
        "  return inside\n",
        "\n",
        "n = 10000000\n",
        "start_time = datetime.datetime.now()\n",
        "inCircle=monte_carlo_pi(n)\n",
        "end_time = datetime.datetime.now()\n",
        "elapsed_time = (end_time - start_time).total_seconds()\n",
        "pi_est_parallel = 4.0*inCircle/n\n",
        "print(pi_est_parallel,elapsed_time)"
      ],
      "metadata": {
        "id": "QaomkBz2TCc6"
      },
      "execution_count": null,
      "outputs": []
    },
    {
      "cell_type": "code",
      "source": [
        "# Numpy approach, parallel vectors and hardware optimization, based on https://rse.shef.ac.uk/hpc-intro-tuos-citc/16-parallel/index.html\n",
        "n = 10000000\n",
        "#start_time = datetime.datetime.now()\n",
        "\n",
        "x = np.random.uniform(size=n)\n",
        "y = np.random.uniform(size=n)\n",
        "start_time = datetime.datetime.now()\n",
        "radii = np.sqrt(x*x + y*y)\n",
        "#counting how many inside the circle\n",
        "count = len(radii[np.where(radii<=1.0)])\n",
        "\n",
        "end_time = datetime.datetime.now()\n",
        "elapsed_time = (end_time - start_time).total_seconds()\n",
        "pi_est_numpy = 4.0 * count / n\n",
        "\n",
        "# Since the largest variables in the script are x, y, and radii, each containing n points,\n",
        "# and each is stored as a NumPy float64, to calculate the total memory required we can\n",
        "# use NumPy’s dtype function to calculate the size of a float64.\n",
        "size_of_float = np.dtype(np.float64).itemsize\n",
        "memory = 3 * n * size_of_float / (1024**3)\n",
        "\n",
        "print(pi_est_numpy,elapsed_time,\" memory used, in gigs: \",memory)"
      ],
      "metadata": {
        "id": "36BIa-fwsuLe"
      },
      "execution_count": null,
      "outputs": []
    }
  ]
}