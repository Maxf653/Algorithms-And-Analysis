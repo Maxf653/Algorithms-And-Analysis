{
  "nbformat": 4,
  "nbformat_minor": 0,
  "metadata": {
    "colab": {
      "provenance": [],
      "authorship_tag": "ABX9TyMw+hBTig+de9wP50TUwdmx",
      "include_colab_link": true
    },
    "kernelspec": {
      "name": "python3",
      "display_name": "Python 3"
    },
    "language_info": {
      "name": "python"
    }
  },
  "cells": [
    {
      "cell_type": "markdown",
      "metadata": {
        "id": "view-in-github",
        "colab_type": "text"
      },
      "source": [
        "<a href=\"https://colab.research.google.com/github/Maxf653/Algorithms-And-Analysis/blob/main/HW04.ipynb\" target=\"_parent\"><img src=\"https://colab.research.google.com/assets/colab-badge.svg\" alt=\"Open In Colab\"/></a>"
      ]
    },
    {
      "cell_type": "code",
      "source": [
        "# Max Finkielstein\n",
        "# CS315 Dr.Kruse\n",
        "\n",
        "# HW04 - 5.a\n",
        "# Have a new execution group which times each algorithm on random data for a variety of sizes, N,\n",
        "# which is sufficiently large enough to confirm that the actual run-time agrees with the theoretically\n",
        "# calculated expected run-time, by using the Ratio Test\n",
        "\n",
        "# Each sorting algorithm has it's own execution block of code\n"
      ],
      "metadata": {
        "id": "eyD73qGlk1CZ"
      },
      "execution_count": null,
      "outputs": []
    },
    {
      "cell_type": "code",
      "execution_count": null,
      "metadata": {
        "id": "BYkJasWKkxRm"
      },
      "outputs": [],
      "source": [
        "import random\n",
        "import time"
      ]
    },
    {
      "cell_type": "code",
      "source": [
        "# Quick Sort and Partition\n",
        "\n",
        "def Partition(A,p,r):\n",
        "    x = A[r]\n",
        "    i = p - 1\n",
        "    for j in range(p,r):\n",
        "        if ( A[j] <= x ):\n",
        "            i = i + 1\n",
        "            #swap A[i] <--> A[j]\n",
        "            temp=A[i]\n",
        "            A[i]=A[j]\n",
        "            A[j]=temp\n",
        "    #swap A[i+1] <--> A[r]\n",
        "    temp=A[i+1]\n",
        "    A[i+1]=A[r]\n",
        "    A[r]=temp\n",
        "\n",
        "    return i + 1\n",
        "\n",
        "def quick_sort(A,p,r):\n",
        "    if p < r:\n",
        "        q  = Partition(A , p , r)\n",
        "        quick_sort(A , p , q-1)\n",
        "        quick_sort(A , q+1 , r)"
      ],
      "metadata": {
        "id": "Cu68nb94UQWP"
      },
      "execution_count": null,
      "outputs": []
    },
    {
      "cell_type": "code",
      "source": [
        "# Merge Sort\n",
        "def merge_sort(A):\n",
        "  if len(A) <= 1:\n",
        "    return A\n",
        "  l = merge_sort(A[:len(A)//2])\n",
        "  r = merge_sort(A[len(A)//2:])\n",
        "  return merge(l, r)\n",
        "\n",
        "def merge(l, r):\n",
        "  out = []\n",
        "  i=j= 0 # indexes for l and r respectivley\n",
        "  while i<len(l) and j<len(r): # itterate until one list has been exhausted\n",
        "    if l[i]<r[j]:\n",
        "      out.append(l[i])\n",
        "      i+=1\n",
        "    else:\n",
        "      out.append(r[j])\n",
        "      j+=1\n",
        "\n",
        "  out.extend(l[i:])\n",
        "  out.extend(r[j:])\n",
        "  return out"
      ],
      "metadata": {
        "id": "7qOarWkiUs0X"
      },
      "execution_count": null,
      "outputs": []
    },
    {
      "cell_type": "code",
      "source": [
        "def selection_sort(A):\n",
        "  n = len(A)\n",
        "  for i in range (0, n-1):\n",
        "    smallest = i\n",
        "    for j in range(i+1, n):\n",
        "      if A[smallest] > A[j]:\n",
        "        smallest = j\n",
        "        temp = A[i]\n",
        "        A[i] = A[smallest]\n",
        "        A[smallest] = temp\n",
        "  return\n"
      ],
      "metadata": {
        "id": "F4pwTi-QUtH5"
      },
      "execution_count": null,
      "outputs": []
    },
    {
      "cell_type": "code",
      "source": [
        "def insertion_sort(A):\n",
        "  for i in range (2,len(A)):\n",
        "    key = A[i]\n",
        "# insert A[i] into sorted seq A[1]..A[i-1]\n",
        "    j = i-1\n",
        "    while j>=0 and A[j]>key:\n",
        "      A[j+1] = A[j]\n",
        "      j = j-1\n",
        "      A[j+1] = key"
      ],
      "metadata": {
        "id": "kt-0FLePUtRO"
      },
      "execution_count": null,
      "outputs": []
    },
    {
      "cell_type": "code",
      "source": [
        "# Merge sort Execution\n",
        "N = random.randint(2, 50)\n",
        "A = list(range(N))\n",
        "random.shuffle(A)\n",
        "print(A)\n",
        "\n",
        "start = time.time()\n",
        "merge_sort(A)\n",
        "stop = time.time()\n",
        "\n",
        "print(\"Time:\", stop-start)\n",
        "print(A)\n",
        "\n"
      ],
      "metadata": {
        "colab": {
          "base_uri": "https://localhost:8080/"
        },
        "id": "coNbm6p2Vn6S",
        "outputId": "6e498be8-6ee6-496f-f8cd-74dd74fcbd86",
        "collapsed": true
      },
      "execution_count": null,
      "outputs": [
        {
          "output_type": "stream",
          "name": "stdout",
          "text": [
            "[1, 2, 4, 0, 3]\n",
            "Time: 0.00013685226440429688\n",
            "[1, 2, 4, 0, 3]\n"
          ]
        }
      ]
    },
    {
      "cell_type": "code",
      "source": [
        "# Insertion sort execution\n",
        "N = random.randint(2, 50)\n",
        "A = list(range(N))\n",
        "random.shuffle(A)\n",
        "print(A)\n",
        "\n",
        "start = time.time()\n",
        "insertion_sort(A)\n",
        "stop = time.time()\n",
        "print(\"Time:\", stop-start)\n",
        "print(A)\n"
      ],
      "metadata": {
        "colab": {
          "base_uri": "https://localhost:8080/"
        },
        "id": "rXcYWRWJxDxp",
        "outputId": "cb6826ce-5292-4c0a-cb21-b73f0630b31d"
      },
      "execution_count": null,
      "outputs": [
        {
          "output_type": "stream",
          "name": "stdout",
          "text": [
            "[15, 29, 34, 19, 3, 26, 37, 5, 38, 22, 39, 20, 0, 32, 21, 30, 16, 28, 6, 7, 13, 9, 10, 12, 27, 17, 18, 11, 25, 33, 24, 14, 31, 35, 2, 1, 23, 4, 36, 8]\n",
            "Time: 9.72747802734375e-05\n",
            "[0, 1, 2, 3, 4, 5, 6, 7, 8, 9, 10, 11, 12, 13, 14, 15, 16, 17, 18, 19, 20, 21, 22, 23, 24, 25, 26, 27, 28, 29, 30, 31, 32, 33, 34, 35, 36, 37, 38, 39]\n"
          ]
        }
      ]
    },
    {
      "cell_type": "code",
      "source": [
        "# Selection Sort Execution\n",
        "N = random.randint(2, 50)\n",
        "A = list(range(N))\n",
        "random.shuffle(A)\n",
        "print(A)\n",
        "\n",
        "start = time.time()\n",
        "selection_sort(A)\n",
        "stop = time.time()\n",
        "\n",
        "print(\"Time:\", stop-start)\n",
        "print(A)"
      ],
      "metadata": {
        "colab": {
          "base_uri": "https://localhost:8080/"
        },
        "id": "T2duV9WfxEAy",
        "outputId": "33b199a3-4f01-41e0-ebdc-8d6c39af943a"
      },
      "execution_count": null,
      "outputs": [
        {
          "output_type": "stream",
          "name": "stdout",
          "text": [
            "[8, 15, 38, 20, 18, 0, 27, 29, 39, 22, 30, 26, 6, 32, 16, 9, 13, 4, 36, 1, 17, 34, 31, 3, 28, 21, 25, 5, 2, 14, 33, 12, 11, 10, 40, 35, 7, 37, 19, 23, 24]\n",
            "Time: 9.72747802734375e-05\n",
            "[6, 4, 1, 3, 5, 2, 7, 0, 9, 14, 12, 11, 10, 13, 8, 17, 16, 19, 15, 25, 21, 18, 30, 26, 36, 27, 28, 33, 32, 34, 29, 35, 31, 37, 22, 23, 24, 20, 38, 39, 40]\n"
          ]
        }
      ]
    },
    {
      "cell_type": "code",
      "source": [
        "# Quick Sort Execution\n",
        "N = random.randint(2, 50)\n",
        "A = list(range(N))\n",
        "random.shuffle(A)\n",
        "print(A)\n",
        "\n",
        "start = time.time()\n",
        "quick_sort(A, 0, N-1)\n",
        "stop = time.time()\n",
        "\n",
        "print(\"Time:\", stop-start)\n",
        "print(A)"
      ],
      "metadata": {
        "colab": {
          "base_uri": "https://localhost:8080/"
        },
        "id": "8sJMgY8FxEOS",
        "outputId": "9a503b62-2c9f-4bb3-c951-a3a8370cc579"
      },
      "execution_count": null,
      "outputs": [
        {
          "output_type": "stream",
          "name": "stdout",
          "text": [
            "[4, 20, 12, 19, 16, 11, 8, 14, 13, 5, 2, 21, 6, 17, 10, 0, 22, 26, 18, 15, 23, 1, 9, 25, 24, 3, 7]\n",
            "Time: 0.000125885009765625\n",
            "[0, 1, 2, 3, 4, 5, 6, 7, 8, 9, 10, 11, 12, 13, 14, 15, 16, 17, 18, 19, 20, 21, 22, 23, 24, 25, 26]\n"
          ]
        }
      ]
    },
    {
      "cell_type": "code",
      "source": [
        "# Python .sort() Random List\n",
        "N = 10\n",
        "A = list(range(N))\n",
        "random.shuffle(A)\n",
        "print(A)\n",
        "\n",
        "start = time.time()\n",
        "A.sort()\n",
        "stop = time.time()\n",
        "\n",
        "print(\"Time:\", stop-start)\n",
        "print(A)"
      ],
      "metadata": {
        "colab": {
          "base_uri": "https://localhost:8080/"
        },
        "id": "LwRMk1NT2lOy",
        "outputId": "c6a2bdbc-7728-4dd0-a4ed-8a10d83c6491"
      },
      "execution_count": null,
      "outputs": [
        {
          "output_type": "stream",
          "name": "stdout",
          "text": [
            "[8, 2, 7, 9, 1, 0, 4, 6, 5, 3]\n",
            "Time: 6.29425048828125e-05\n",
            "[0, 1, 2, 3, 4, 5, 6, 7, 8, 9]\n"
          ]
        }
      ]
    },
    {
      "cell_type": "code",
      "source": [
        "# Python .sort() Sorted List\n",
        "N = 10\n",
        "A = list(range(N))\n",
        "print(A)\n",
        "\n",
        "start = time.time()\n",
        "A.sort()\n",
        "stop = time.time()\n",
        "\n",
        "print(\"Time:\", stop-start)\n",
        "print(A)"
      ],
      "metadata": {
        "colab": {
          "base_uri": "https://localhost:8080/"
        },
        "id": "-PwSqxN0QLyr",
        "outputId": "1291fc9e-6cf5-45c0-f3fe-4ff2a2625324"
      },
      "execution_count": null,
      "outputs": [
        {
          "output_type": "stream",
          "name": "stdout",
          "text": [
            "[0, 1, 2, 3, 4, 5, 6, 7, 8, 9]\n",
            "Time: 5.364418029785156e-05\n",
            "[0, 1, 2, 3, 4, 5, 6, 7, 8, 9]\n"
          ]
        }
      ]
    }
  ]
}